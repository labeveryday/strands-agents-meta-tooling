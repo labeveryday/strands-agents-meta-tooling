{
 "cells": [
  {
   "cell_type": "markdown",
   "id": "a9ca6f5a",
   "metadata": {},
   "source": [
    "# Self-Extending Agents with Strands Meta-Tooling\n",
    "\n",
    "This notebook demonstrates how to create a [self-extending agent](https://strandsagents.com/latest/documentation/docs/examples/python/meta_tooling/) using the Strands Agents framework. A self-extending agent can write and dynamically use new tools during runtime, effectively expanding its own capabilities as needed.\n",
    "\n",
    "## What You'll Learn\n",
    "\n",
    "- How to set up a Strands agent with meta-tooling capabilities\n",
    "- How to configure the system prompt to guide tool creation\n",
    "- How an agent can write Python tools and test them\n",
    "- How to use hot-reloading to immediately access new tools\n",
    "- How to debug and troubleshoot tool creation issues\n",
    "\n",
    "## Prerequisites\n",
    "\n",
    "- An Anthropic API key (Claude 4 model recommended)\n",
    "- Python 3.8+ environment\n",
    "- Basic understanding of Python and LLM agents\n",
    "\n",
    "Let's begin by all the requirements:"
   ]
  },
  {
   "cell_type": "code",
   "execution_count": null,
   "id": "d7cab319",
   "metadata": {},
   "outputs": [],
   "source": [
    "# Install the required packages if not already installed\n",
    "# The [anthropic] extra includes dependencies for using the Anthropic Claude models\n",
    "# colorama is added for color coding the outputs\n",
    "!pip install strands-agents strands-agents-tools 'strands-agents[anthropic]' python-dotenv ipykernel colorama"
   ]
  },
  {
   "cell_type": "markdown",
   "id": "5e3e877f",
   "metadata": {
    "vscode": {
     "languageId": "plaintext"
    }
   },
   "source": [
    "## 1. Environment Setup\n",
    "\n",
    "First, we need to set up our environment by loading environment variables from a `.env` file and installing required packages.\n",
    "\n",
    "> 📝 **Note*: Before running this notebook, rename the `.env.example` file to `.env` in the same directory and update it with your Anthropic API key: `ANTHROPIC_API_KEY=your_key_here`. This is essential for the agent to function."
   ]
  },
  {
   "cell_type": "code",
   "execution_count": null,
   "id": "d83d835c",
   "metadata": {},
   "outputs": [],
   "source": [
    "# Load environment variables from the .env file\n",
    "# This allows secure storage of API keys and configuration\n",
    "from dotenv import load_dotenv\n",
    "load_dotenv()"
   ]
  },
  {
   "cell_type": "markdown",
   "id": "5ade38a4",
   "metadata": {},
   "source": [
    "## 2. Import Required Libraries\n",
    "\n",
    "Next, we import the necessary libraries:\n",
    "- `strands`: The core framework for creating agents\n",
    "- `strands_tools`: Provides tools like `editor` for file operations and `shell` for command execution\n",
    "- `AnthropicModel`: Interface to Claude models\n",
    "\n",
    "> 📝 **Note**: These imports provide the core functionality we need. The `editor` and `shell` tools are particularly important as they allow our agent to create files and run commands, which enables the self-extending capability."
   ]
  },
  {
   "cell_type": "code",
   "execution_count": null,
   "id": "4db7cfc8",
   "metadata": {},
   "outputs": [],
   "source": [
    "# Import necessary libraries\n",
    "import os\n",
    "\n",
    "# Typing for type hints\n",
    "from typing import Any\n",
    "\n",
    "# Strands core components\n",
    "from strands import Agent  # The main agent class\n",
    "\n",
    "# Tools that allow the agent to interact with the file system and shell\n",
    "from strands_tools import editor, shell # editor for file operations, shell for command execution\n",
    "\n",
    "# Claude model integration\n",
    "from strands.models.anthropic import AnthropicModel\n",
    "\n",
    "# Hooks for logging tool invocations\n",
    "from strands.hooks import HookProvider, HookRegistry\n",
    "from strands.experimental.hooks import BeforeToolInvocationEvent\n",
    "\n",
    "# Pretty printing for better output formatting\n",
    "from pprint import pprint\n",
    "\n",
    "# Color coding for better visibility\n",
    "from colorama import Fore, Back, Style, init\n",
    "init(autoreset=True)  # Automatically reset colors after each print"
   ]
  },
  {
   "cell_type": "markdown",
   "id": "cd623df8",
   "metadata": {},
   "source": [
    "## 3. Configure API Access\n",
    "\n",
    "We need to set up access to the Anthropic Claude API. This requires an API key that should be stored in your `.env` file."
   ]
  },
  {
   "cell_type": "code",
   "execution_count": null,
   "id": "974a7879",
   "metadata": {},
   "outputs": [],
   "source": [
    "# Get Anthropic API key and model ID from environment variables\n",
    "# These should be defined in your .env file as:\n",
    "# ANTHROPIC_API_KEY=your_api_key_here\n",
    "# ANTHROPIC_CLAUDE_4=claude-sonnet-4-20250514 (or your preferred model version)\n",
    "\n",
    "ANTHROPIC_API_KEY = os.getenv(\"ANTHROPIC_API_KEY\")\n",
    "if not ANTHROPIC_API_KEY:\n",
    "    raise ValueError(\"Please set the ANTHROPIC_API_KEY environment variable.\")\n",
    "\n",
    "# Default to Claude 4 if not specified in environment variables\n",
    "ANTHROPIC_MODEL_ID = os.getenv(\"ANTHROPIC_CLAUDE_4\", \"claude-sonnet-4-20250514\")"
   ]
  },
  {
   "cell_type": "markdown",
   "id": "00bd20f9",
   "metadata": {},
   "source": [
    "## 4. Enable Tool Consent Bypass\n",
    "\n",
    "For demonstration purposes, we'll bypass the tool consent prompts. In a production environment, you might want to keep this safety feature enabled."
   ]
  },
  {
   "cell_type": "code",
   "execution_count": null,
   "id": "03a6eb31",
   "metadata": {},
   "outputs": [],
   "source": [
    "# Enable auto-approval for the file_write tool\n",
    "# This bypasses prompts asking for permission when the agent wants to write files\n",
    "# IMPORTANT: For production use, you may want to disable this for security reasons\n",
    "os.environ[\"BYPASS_TOOL_CONSENT\"] = \"true\""
   ]
  },
  {
   "cell_type": "markdown",
   "id": "dc849a99",
   "metadata": {},
   "source": [
    "## 5. Define the System Prompt\n",
    "\n",
    "The system prompt is crucial for guiding the agent's behavior. It explains:\n",
    "1. What the agent should create (Python tools)\n",
    "2. Where the tools should be saved (tools directory)\n",
    "3. How to test the tools (with pytest)\n",
    "4. The template for tool creation\n",
    "\n",
    "> 📝 **Note**: The system prompt is critical for self-extending agents. Pay attention to how it:\n",
    "> - Specifies the directory structure (`cwd()/tools/*.py`)\n",
    "> - Mentions hot-reloading (so new tools can be used immediately)\n",
    "> - Includes instructions for testing (creating test files and using pytest)\n",
    "> - Provides a template for the tool format\n",
    ">\n",
    "> You can modify this prompt to change how the agent creates tools."
   ]
  },
  {
   "cell_type": "code",
   "execution_count": null,
   "id": "082a9763",
   "metadata": {},
   "outputs": [],
   "source": [
    "# Define the system prompt to guide the agent's behavior\n",
    "# This prompt is critical as it provides instructions to the agent on:\n",
    "# 1. What it should create (Python tools)\n",
    "# 2. Where to store them (tools directory)\n",
    "# 3. How to test them (unit tests with pytest)\n",
    "# 4. What to do if tests fail (debug and fix)\n",
    "\n",
    "SYSTEM_PROMPT = \"\"\"\n",
    "You are a specialized agent capable of creating Python tools and using them to solve problems.\n",
    "\n",
    "Goal:\n",
    "    - Create Python tools under cwd()/tools/*.py using the tool decorator\n",
    "    - Each tool should be well-documented with clear docstrings and type hints\n",
    "    - After writing a tool, you can use it immediately with load_tool (hot-reloading enabled)\n",
    "    - Create comprehensive unit tests for each tool under cwd()/tools/tests/test_*.py\n",
    "    - Verify tests work by running them with pytest\n",
    "    - Debug and fix any issues found during testing\n",
    "\n",
    "Process for each tool:\n",
    "    1. Design the tool function with appropriate parameters and return types\n",
    "    2. Implement the tool with robust error handling and documentation\n",
    "    3. Create test cases covering normal usage and edge cases\n",
    "    4. Run tests to verify functionality\n",
    "    5. Use the tool to solve the specified problem\n",
    "    6. Document your approach and results\n",
    "\n",
    "Tool template:\n",
    "    from strands import tool\n",
    "\n",
    "    @tool\n",
    "    def tool_name(param1: type, param2: type) -> return_type:\n",
    "        '''\n",
    "        Clear description of what the tool does.\n",
    "        \n",
    "        Args:\n",
    "            param1: Description of parameter 1\n",
    "            param2: Description of parameter 2\n",
    "            \n",
    "        Returns:\n",
    "            Description of return value\n",
    "            \n",
    "        Raises:\n",
    "            ErrorType: When and why this error might occur\n",
    "        '''\n",
    "        # Implementation\n",
    "        return result\n",
    "\n",
    "Directory structure:\n",
    "    - tools/            # Main directory for all tools\n",
    "      - __init__.py     # Make it a proper package\n",
    "      - tool_name.py    # One file per tool\n",
    "      - tests/          # Directory for all tests\n",
    "        - __init__.py   # Make it a proper package\n",
    "        - test_tool_name.py  # One test file per tool\n",
    "\"\"\""
   ]
  },
  {
   "cell_type": "markdown",
   "id": "12272110",
   "metadata": {},
   "source": [
    "## 6. Configure the Anthropic Model\n",
    "\n",
    "Here we configure the Claude model with appropriate parameters:\n",
    "- `max_tokens`: Sets the maximum number of tokens in the model's response\n",
    "- `temperature`: Controls randomness (1.0 is more creative, 0.0 is more deterministic)\n",
    "- `thinking`: Enables the model to \"think\" before responding, which helps with complex reasoning"
   ]
  },
  {
   "cell_type": "code",
   "execution_count": null,
   "id": "9eb20400",
   "metadata": {},
   "outputs": [],
   "source": [
    "# Configure Anthropic model\n",
    "# For self-extending agents, we recommend using Claude 4 with thinking enabled\n",
    "# The \"thinking\" parameter allows the model to work through complex problems step by step\n",
    "anthropic_model = AnthropicModel(\n",
    "    client_args={\n",
    "        \"api_key\": ANTHROPIC_API_KEY\n",
    "    },\n",
    "    # Set a generous max tokens limit for complex tool creation tasks\n",
    "    max_tokens=8000,\n",
    "    model_id=ANTHROPIC_MODEL_ID,\n",
    "    params={\n",
    "        # Temperature of 1.0 encourages more creative responses\n",
    "        # For more deterministic behavior, you can lower this value\n",
    "        \"temperature\": 1,\n",
    "        \n",
    "        # Enable \"thinking\" mode to help the model reason through complex tasks\n",
    "        # This significantly improves the quality of generated tools\n",
    "        \"thinking\": {\n",
    "            \"type\": \"enabled\",\n",
    "            \"budget_tokens\": 1028  # Number of tokens allocated for thinking\n",
    "        }\n",
    "    }\n",
    ")"
   ]
  },
  {
   "cell_type": "markdown",
   "id": "d9d99382",
   "metadata": {},
   "source": [
    "## Hooks\n",
    "\n",
    "Hooks in Strands Agents provide a powerful event-driven system that allows you to intercept and respond to various events during the agent's execution lifecycle. They enable you to add custom behavior without modifying the core agent logic.\n",
    "\n",
    "In this notebook, we use a logging hook to monitor tool invocations, which is particularly valuable for debugging and understanding what the self-extending agent is doing:\n",
    "\n",
    "**Why use hooks for logging tool calls?**\n",
    "- **Transparency**: See exactly which tools are being called and with what inputs\n",
    "- **Debugging**: Track the agent's decision-making process when creating and using tools\n",
    "- **Monitoring**: Observe the agent's behavior during the self-extension process\n",
    "- **Audit Trail**: Keep a record of all tool operations for analysis\n",
    "\n",
    "The `BeforeToolInvocationEvent` fires just before any tool is executed, giving us insight into:\n",
    "1. Which agent is making the call\n",
    "2. What tool is being invoked\n",
    "3. What input parameters are being passed\n",
    "\n",
    "This is especially useful for self-extending agents because you can observe:\n",
    "- When the agent creates new tools (via the editor tool)\n",
    "- When it tests tools (via the shell tool)\n",
    "- When it uses the newly created tools"
   ]
  },
  {
   "cell_type": "code",
   "execution_count": null,
   "id": "757e5e59",
   "metadata": {},
   "outputs": [],
   "source": [
    "# Color-coded logging hook for tool invocations before they are executed\n",
    "class LoggingHook(HookProvider):\n",
    "    def register_hooks(self, registry: HookRegistry) -> None:\n",
    "        registry.add_callback(BeforeToolInvocationEvent, self.log_start)\n",
    "\n",
    "    def log_start(self, event: BeforeToolInvocationEvent) -> None:\n",
    "        # Color-coded output for better visibility\n",
    "        print(f\"{Fore.CYAN}{'='*60}\")\n",
    "        print(f\"{Fore.YELLOW}🔧 TOOL INVOCATION\")\n",
    "        print(f\"{Fore.CYAN}{'='*60}\")\n",
    "        print(f\"{Fore.GREEN}Agent: {Fore.WHITE}{event.agent.name}\")\n",
    "        print(f\"{Fore.BLUE}Tool: {Fore.WHITE}{event.tool_use['name']}\")\n",
    "        print(f\"{Fore.MAGENTA}Input Parameters:\")\n",
    "        \n",
    "        # Pretty print the input with color coding\n",
    "        import json\n",
    "        formatted_input = json.dumps(event.tool_use['input'], indent=2)\n",
    "        for line in formatted_input.split('\\n'):\n",
    "            print(f\"{Fore.WHITE}  {line}\")\n",
    "        \n",
    "        print(f\"{Fore.CYAN}{'='*60}\")"
   ]
  },
  {
   "cell_type": "markdown",
   "id": "4716f017",
   "metadata": {},
   "source": [
    "## 7. Create the Self-Extending Agent\n",
    "\n",
    "Now we'll create the agent with our system prompt, model, and tools:\n",
    "- `system_prompt`: Instructions we defined earlier\n",
    "- `model`: The configured Anthropic model\n",
    "- `tools`: The editor and shell tools that allow file creation and command execution\n",
    "- `load_tools_from_directory`: Enables hot-reloading of tools, so the agent can use tools it just created\n",
    "\n",
    "> 📝 **Note**: The `load_tools_from_directory=True` parameter is essential for self-extending functionality. Without this, the agent wouldn't be able to use the tools it creates without restarting the notebook."
   ]
  },
  {
   "cell_type": "code",
   "execution_count": null,
   "id": "fb7dc6bf",
   "metadata": {},
   "outputs": [],
   "source": [
    "# Create self-extending agent with Anthropic Claude 4\n",
    "# This agent will be able to:\n",
    "# 1. Create new Python tools\n",
    "# 2. Test these tools\n",
    "# 3. Debug and fix any issues\n",
    "# 4. Use the tools immediately after creation\n",
    "\n",
    "agent = Agent(\n",
    "    system_prompt=SYSTEM_PROMPT,  # The instructions we defined earlier\n",
    "    model=anthropic_model,        # The Claude 4 model we configured\n",
    "    tools=[editor, shell],        # Tools for file operations and shell commands\n",
    "    hooks=[LoggingHook()],        # Hooks for logging tool invocations\n",
    "    \n",
    "    # This is critical for self-extending functionality:\n",
    "    # When set to True, the agent can dynamically load tools it creates\n",
    "    # without restarting the runtime\n",
    "    load_tools_from_directory=True\n",
    ")"
   ]
  },
  {
   "cell_type": "code",
   "execution_count": null,
   "id": "b9b0f4e7",
   "metadata": {},
   "outputs": [],
   "source": [
    "# Color-coded agent response wrapper\n",
    "def run_agent_with_colors(agent, prompt):\n",
    "    \"\"\"\n",
    "    Run the agent with a prompt and display the response with color coding.\n",
    "    This makes it easier to distinguish between different types of output.\n",
    "    \"\"\"\n",
    "    print(f\"{Fore.GREEN}{'='*80}\")\n",
    "    print(f\"{Fore.YELLOW}🤖 AGENT REQUEST\")\n",
    "    print(f\"{Fore.GREEN}{'='*80}\")\n",
    "    print(f\"{Fore.CYAN}Prompt: {Fore.WHITE}{prompt}\")\n",
    "    print(f\"{Fore.GREEN}{'='*80}\")\n",
    "    print(f\"{Fore.YELLOW}📝 Agent Response:\")\n",
    "    print(f\"{Fore.GREEN}{'='*80}\")\n",
    "    \n",
    "    # Run the agent and capture the result\n",
    "    result = agent(prompt)\n",
    "    \n",
    "    print(f\"{Fore.GREEN}{'='*80}\")\n",
    "    print(f\"{Fore.YELLOW}✅ AGENT RESPONSE COMPLETE\")\n",
    "    print(f\"{Fore.GREEN}{'='*80}\")\n",
    "    \n",
    "    return result\n"
   ]
  },
  {
   "cell_type": "markdown",
   "id": "15a20d17",
   "metadata": {},
   "source": [
    "## Color Coding Features\n",
    "\n",
    "This notebook now includes color-coded output to make it easier to distinguish between different types of information:\n",
    "\n",
    "- **🔧 Tool Invocations**: Cyan borders with yellow headers show when tools are being called\n",
    "- **🤖 Agent Requests**: Green borders with yellow headers for agent prompts\n",
    "- **📝 Agent Responses**: Clear separation between requests and responses\n",
    "- **✅ Completion Indicators**: Visual confirmation when operations complete\n",
    "\n",
    "The color coding helps you:\n",
    "- **Track Progress**: See exactly which tools are being invoked and when\n",
    "- **Debug Issues**: Quickly identify where problems occur in the tool chain\n",
    "- **Understand Flow**: Follow the agent's decision-making process step by step\n",
    "- **Monitor Performance**: See how long different operations take\n"
   ]
  },
  {
   "cell_type": "code",
   "execution_count": null,
   "id": "f2bc1d0b",
   "metadata": {},
   "outputs": [],
   "source": [
    "# Test the color coding system\n",
    "print(\"Testing color coding system...\")\n",
    "print(f\"{Fore.RED}Red text for errors\")\n",
    "print(f\"{Fore.GREEN}Green text for success\")\n",
    "print(f\"{Fore.YELLOW}Yellow text for warnings\")\n",
    "print(f\"{Fore.BLUE}Blue text for information\")\n",
    "print(f\"{Fore.MAGENTA}Magenta text for highlights\")\n",
    "print(f\"{Fore.CYAN}Cyan text for separators\")\n",
    "print(f\"{Fore.WHITE}White text for normal content\")\n",
    "print(f\"{Fore.GREEN}{'='*50}\")\n",
    "print(f\"{Fore.YELLOW}Color coding test complete!\")\n",
    "print(f\"{Fore.GREEN}{'='*50}\")\n"
   ]
  },
  {
   "cell_type": "markdown",
   "id": "bf493a89",
   "metadata": {},
   "source": [
    "## 8. Interact with the Self-Extending Agent\n",
    "\n",
    "Let's define a prompt that asks the agent to create and use multiple tools to solve different problems:\n",
    "\n",
    "> 📝 **Note**: When creating your own prompts, be specific about the tools you need and the problems you want solved. Include clear examples and expected outputs."
   ]
  },
  {
   "cell_type": "code",
   "execution_count": null,
   "id": "37d3d953",
   "metadata": {},
   "outputs": [],
   "source": [
    "# Define the prompt for the agent\n",
    "# This prompt asks the agent to create multiple tools and solve specific problems\n",
    "# It includes clear expectations for testing and demonstration\n",
    "\n",
    "prompt = \"\"\"\n",
    "I need you to create several Python tools to solve the following problems:\n",
    "\n",
    "1. Create a tool named 'add_numbers' that adds two numbers, then use it to add 5 and 7.\n",
    "\n",
    "2. Create a tool named 'calculate_compound_interest' that calculates compound interest with parameters for principal, rate, time, and compounding frequency. Use it to find the final value of $1000 invested at 5% annual interest for 3 years, compounded quarterly.\n",
    "\n",
    "3. Create a tool named 'analyze_text' that takes a text string and returns statistics including: word count, character count, average word length, and most frequent word. Use it to analyze this sample text: \"The quick brown fox jumps over the lazy dog. The fox was quick and brown and very clever.\"\n",
    "\n",
    "For each tool:\n",
    "1. Create the tool in the proper directory\n",
    "2. Create comprehensive unit tests\n",
    "3. Run the tests using pytest and ensure they pass\n",
    "4. Show the tool in action by solving the specified problem\n",
    "5. Provide the exact result of using the tool\n",
    "\n",
    "After creating all tools, summarize which tools you've created, which tests were run, and all the results obtained.\n",
    "\"\"\""
   ]
  },
  {
   "cell_type": "markdown",
   "id": "c1d9c285",
   "metadata": {},
   "source": [
    "## 9. Run the Agent to Create Tools\n",
    "\n",
    "Now we'll run the agent with our prompt. This will:\n",
    "1. Trigger the agent to understand the task\n",
    "2. Create necessary directories if they don't exist\n",
    "3. Write the Python tool files\n",
    "4. Create test files for the tools\n",
    "5. Use the tools to demonstrate their functionality\n",
    "\n",
    "> 📝 **Note**: This cell may take several minutes to run as the agent thinks through the implementation, writes files, and tests them."
   ]
  },
  {
   "cell_type": "code",
   "execution_count": null,
   "id": "273507ec",
   "metadata": {},
   "outputs": [],
   "source": [
    "# Invoke the agent with our prompt using color-coded output\n",
    "# This will trigger the agent to:\n",
    "# 1. Create directories if needed (tools/ and tools/tests/)\n",
    "# 2. Write Python tool files with the requested functionality\n",
    "# 3. Create test files to verify the tools work\n",
    "# 4. Execute the tools to demonstrate their functionality\n",
    "#\n",
    "# Note: This cell may take several minutes to run as the agent thinks through \n",
    "# the implementation, writes files, and tests them\n",
    "\n",
    "result = run_agent_with_colors(agent, prompt)"
   ]
  },
  {
   "cell_type": "markdown",
   "id": "d4c8f317",
   "metadata": {},
   "source": []
  },
  {
   "cell_type": "markdown",
   "id": "af29d366",
   "metadata": {},
   "source": []
  },
  {
   "cell_type": "markdown",
   "id": "07e6f197",
   "metadata": {},
   "source": []
  },
  {
   "cell_type": "markdown",
   "id": "db3c8bf0",
   "metadata": {},
   "source": []
  },
  {
   "cell_type": "markdown",
   "id": "a05303b7",
   "metadata": {},
   "source": []
  },
  {
   "cell_type": "markdown",
   "id": "13b47651",
   "metadata": {},
   "source": []
  },
  {
   "cell_type": "markdown",
   "id": "85da9b52",
   "metadata": {},
   "source": [
    "## 10. Testing and Debugging the Created Tools\n",
    "\n",
    "After creating the tools, we need to ensure they work correctly. We'll ask the agent to:\n",
    "1. Run the tests it created\n",
    "2. Debug any issues it encounters\n",
    "3. Fix problems in the implementation\n",
    "\n",
    "> 📝 **Note**: This is where we demonstrate the interactive development process. By asking the agent to run tests, we show how you can guide it through a complete development cycle."
   ]
  },
  {
   "cell_type": "code",
   "execution_count": null,
   "id": "0673a7e1",
   "metadata": {},
   "outputs": [],
   "source": [
    "# Ask the agent to explicitly run tests on the created tools\n",
    "# This demonstrates how you can guide the agent through a complete development process\n",
    "# Including testing to ensure quality and functionality\n",
    "test_prompt = \"Did you run all the tests for the tools you created? Please verify that all tests pass and show me the results.\"\n",
    "run_agent_with_colors(agent, test_prompt)"
   ]
  },
  {
   "cell_type": "markdown",
   "id": "0dd765fb",
   "metadata": {},
   "source": [
    "## 11. Examine Agent Conversation History\n",
    "\n",
    "We can inspect the agent's message history to understand how it approached the task. This helps us see the agent's reasoning process and how it handled any challenges."
   ]
  },
  {
   "cell_type": "code",
   "execution_count": null,
   "id": "5afe094d",
   "metadata": {},
   "outputs": [],
   "source": [
    "# View the full conversation history with the agent\n",
    "# This shows the entire interaction, including the agent's thinking process\n",
    "# Analyzing this can provide insights into how the agent approaches tool creation\n",
    "agent.messages"
   ]
  },
  {
   "cell_type": "markdown",
   "id": "6aededa1",
   "metadata": {},
   "source": [
    "## 12. Review Tool Invocations\n",
    "\n",
    "Finally, we can ask the agent to report which tools it called during the process. This helps us understand how the agent used its available tools to accomplish the task."
   ]
  },
  {
   "cell_type": "code",
   "execution_count": null,
   "id": "b324eca6",
   "metadata": {},
   "outputs": [],
   "source": [
    "# Ask the agent to list all the tools it has called during this session\n",
    "# This helps understand which built-in and newly created tools were used\n",
    "# It's a good way to verify that the agent is actually using the tools it created\n",
    "summary_prompt = \"Please list all the tools you've created and used during this session, and summarize what each tool does and the results you obtained when using them.\"\n",
    "run_agent_with_colors(agent, summary_prompt)"
   ]
  },
  {
   "cell_type": "markdown",
   "id": "9ec5a6ea",
   "metadata": {},
   "source": [
    "## Expected Output and Results\n",
    "\n",
    "When running this notebook, you can expect to see the following results:\n",
    "\n",
    "### Tool Creation Phase\n",
    "When the agent runs for the first time, you'll see output showing:\n",
    "\n",
    "1. Directory creation (if needed):\n",
    "   ```\n",
    "   I'll create the necessary directories for our tools and tests.\n",
    "   ```\n",
    "\n",
    "2. Tool implementation for adding numbers:\n",
    "   ```python\n",
    "   # tools/add_numbers.py\n",
    "   from strands import tool\n",
    "\n",
    "   @tool\n",
    "   def add_numbers(a: float, b: float) -> float:\n",
    "       \"\"\"\n",
    "       Add two numbers together.\n",
    "       \n",
    "       Args:\n",
    "           a: First number\n",
    "           b: Second number\n",
    "           \n",
    "       Returns:\n",
    "           Sum of the two numbers\n",
    "       \"\"\"\n",
    "       return a + b\n",
    "   ```\n",
    "\n",
    "3. Test file creation:\n",
    "   ```python\n",
    "   # tools/tests/test_add_numbers.py\n",
    "   import pytest\n",
    "   from tools.add_numbers import add_numbers\n",
    "\n",
    "   def test_add_numbers():\n",
    "       assert add_numbers(5, 7) == 12\n",
    "       assert add_numbers(-3, 5) == 2\n",
    "       assert add_numbers(0, 0) == 0\n",
    "       assert add_numbers(1.5, 2.5) == 4.0\n",
    "   ```\n",
    "\n",
    "4. Tool demonstration (using the created tool):\n",
    "   ```\n",
    "   Let me use the add_numbers tool to add 5 and 7:\n",
    "   Result: 12\n",
    "   ```\n",
    "\n",
    "5. Similar output for the compound interest and text analysis tools."
   ]
  },
  {
   "cell_type": "markdown",
   "id": "dc95069e",
   "metadata": {},
   "source": [
    "### Testing Phase\n",
    "When running tests, you'll see output like:\n",
    "```\n",
    "Running pytest to verify our tests...\n",
    "============================= test session starts ==============================\n",
    "...\n",
    "tools/tests/test_add_numbers.py ..\n",
    "tools/tests/test_compound_interest.py ..\n",
    "tools/tests/test_analyze_text.py ..\n",
    "============================== 6 passed in 0.15s ==============================\n",
    "```"
   ]
  },
  {
   "cell_type": "markdown",
   "id": "86e10c37",
   "metadata": {},
   "source": [
    "## 13. Conclusion and Next Steps\n",
    "\n",
    "In this notebook, we've demonstrated how to create a self-extending agent that can:\n",
    "1. Generate new tools based on natural language descriptions\n",
    "2. Test and debug its own creations\n",
    "3. Immediately use the tools it creates\n",
    "\n",
    "This capability is powerful for creating adaptive AI systems that can expand their functionality in response to user needs."
   ]
  },
  {
   "cell_type": "markdown",
   "id": "9d6d3b33",
   "metadata": {},
   "source": [
    "### Possible Extensions\n",
    "\n",
    "- Create more complex tools that interact with APIs or databases\n",
    "- Build tools that can modify or improve existing tools\n",
    "- Create a pipeline of tools that work together for complex workflows\n",
    "- Implement version control for generated tools\n",
    "- Add a feedback mechanism to improve tool quality over time"
   ]
  },
  {
   "cell_type": "markdown",
   "id": "f8ead4ff",
   "metadata": {},
   "source": [
    "### Troubleshooting Tips\n",
    "\n",
    "If you encounter issues:\n",
    "\n",
    "1. **Missing directories**: Ensure the agent creates the `tools` and `tools/tests` directories\n",
    "2. **Import errors**: Check if the necessary packages are installed\n",
    "3. **Test failures**: Examine the test output and ask the agent to debug\n",
    "4. **Permission issues**: Make sure your environment allows file writing and shell execution\n",
    "5. **API limits**: Watch for token limits if tools require complex implementations\n",
    "6. **Missing __init__.py files**: If you get import errors, check that the agent created the necessary __init__.py files to make the directories proper Python packages"
   ]
  }
 ],
 "metadata": {
  "kernelspec": {
   "display_name": "venv",
   "language": "python",
   "name": "python3"
  },
  "language_info": {
   "codemirror_mode": {
    "name": "ipython",
    "version": 3
   },
   "file_extension": ".py",
   "mimetype": "text/x-python",
   "name": "python",
   "nbconvert_exporter": "python",
   "pygments_lexer": "ipython3",
   "version": "3.13.5"
  }
 },
 "nbformat": 4,
 "nbformat_minor": 5
}
